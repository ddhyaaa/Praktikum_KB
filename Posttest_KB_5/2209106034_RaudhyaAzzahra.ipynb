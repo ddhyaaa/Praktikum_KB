{
 "cells": [
  {
   "cell_type": "markdown",
   "metadata": {},
   "source": [
    "### Nama    : Raudhya Azzahra' ###\n",
    "### NIM     : 2209106034 ###\n",
    "### Kelas   : IF A2 2022 ###\n",
    "\n",
    "### POSTTEST 5 KB ###"
   ]
  },
  {
   "cell_type": "markdown",
   "metadata": {},
   "source": [
    "====================================================================================================\n"
   ]
  },
  {
   "cell_type": "markdown",
   "metadata": {},
   "source": [
    "Import Pacakage"
   ]
  },
  {
   "cell_type": "code",
   "execution_count": 50,
   "metadata": {},
   "outputs": [],
   "source": [
    "import pandas as pd\n",
    "import matplotlib.pyplot as plt\n",
    "import numpy as np\n",
    "import seaborn as sns\n",
    "from sklearn.preprocessing import LabelEncoder\n",
    "from sklearn.model_selection import train_test_split\n",
    "from sklearn.svm import SVC\n",
    "from sklearn.linear_model import LinearRegression\n",
    "from sklearn.metrics import mean_squared_error\n",
    "from sklearn.cluster import KMeans\n"
   ]
  },
  {
   "cell_type": "markdown",
   "metadata": {},
   "source": [
    "Deklarasi file CSV"
   ]
  },
  {
   "cell_type": "code",
   "execution_count": 2,
   "metadata": {},
   "outputs": [
    {
     "data": {
      "text/html": [
       "<div>\n",
       "<style scoped>\n",
       "    .dataframe tbody tr th:only-of-type {\n",
       "        vertical-align: middle;\n",
       "    }\n",
       "\n",
       "    .dataframe tbody tr th {\n",
       "        vertical-align: top;\n",
       "    }\n",
       "\n",
       "    .dataframe thead th {\n",
       "        text-align: right;\n",
       "    }\n",
       "</style>\n",
       "<table border=\"1\" class=\"dataframe\">\n",
       "  <thead>\n",
       "    <tr style=\"text-align: right;\">\n",
       "      <th></th>\n",
       "      <th>Agency</th>\n",
       "      <th>Agency Type</th>\n",
       "      <th>Distribution Channel</th>\n",
       "      <th>Product Name</th>\n",
       "      <th>Claim</th>\n",
       "      <th>Duration</th>\n",
       "      <th>Destination</th>\n",
       "      <th>Net Sales</th>\n",
       "      <th>Commision (in value)</th>\n",
       "      <th>Gender</th>\n",
       "      <th>Age</th>\n",
       "    </tr>\n",
       "  </thead>\n",
       "  <tbody>\n",
       "    <tr>\n",
       "      <th>0</th>\n",
       "      <td>CBH</td>\n",
       "      <td>Travel Agency</td>\n",
       "      <td>Offline</td>\n",
       "      <td>Comprehensive Plan</td>\n",
       "      <td>No</td>\n",
       "      <td>186</td>\n",
       "      <td>MALAYSIA</td>\n",
       "      <td>-29.0</td>\n",
       "      <td>9.57</td>\n",
       "      <td>F</td>\n",
       "      <td>81</td>\n",
       "    </tr>\n",
       "    <tr>\n",
       "      <th>1</th>\n",
       "      <td>CBH</td>\n",
       "      <td>Travel Agency</td>\n",
       "      <td>Offline</td>\n",
       "      <td>Comprehensive Plan</td>\n",
       "      <td>No</td>\n",
       "      <td>186</td>\n",
       "      <td>MALAYSIA</td>\n",
       "      <td>-29.0</td>\n",
       "      <td>9.57</td>\n",
       "      <td>F</td>\n",
       "      <td>71</td>\n",
       "    </tr>\n",
       "    <tr>\n",
       "      <th>2</th>\n",
       "      <td>CWT</td>\n",
       "      <td>Travel Agency</td>\n",
       "      <td>Online</td>\n",
       "      <td>Rental Vehicle Excess Insurance</td>\n",
       "      <td>No</td>\n",
       "      <td>65</td>\n",
       "      <td>AUSTRALIA</td>\n",
       "      <td>-49.5</td>\n",
       "      <td>29.70</td>\n",
       "      <td>NaN</td>\n",
       "      <td>32</td>\n",
       "    </tr>\n",
       "    <tr>\n",
       "      <th>3</th>\n",
       "      <td>CWT</td>\n",
       "      <td>Travel Agency</td>\n",
       "      <td>Online</td>\n",
       "      <td>Rental Vehicle Excess Insurance</td>\n",
       "      <td>No</td>\n",
       "      <td>60</td>\n",
       "      <td>AUSTRALIA</td>\n",
       "      <td>-39.6</td>\n",
       "      <td>23.76</td>\n",
       "      <td>NaN</td>\n",
       "      <td>32</td>\n",
       "    </tr>\n",
       "    <tr>\n",
       "      <th>4</th>\n",
       "      <td>CWT</td>\n",
       "      <td>Travel Agency</td>\n",
       "      <td>Online</td>\n",
       "      <td>Rental Vehicle Excess Insurance</td>\n",
       "      <td>No</td>\n",
       "      <td>79</td>\n",
       "      <td>ITALY</td>\n",
       "      <td>-19.8</td>\n",
       "      <td>11.88</td>\n",
       "      <td>NaN</td>\n",
       "      <td>41</td>\n",
       "    </tr>\n",
       "    <tr>\n",
       "      <th>...</th>\n",
       "      <td>...</td>\n",
       "      <td>...</td>\n",
       "      <td>...</td>\n",
       "      <td>...</td>\n",
       "      <td>...</td>\n",
       "      <td>...</td>\n",
       "      <td>...</td>\n",
       "      <td>...</td>\n",
       "      <td>...</td>\n",
       "      <td>...</td>\n",
       "      <td>...</td>\n",
       "    </tr>\n",
       "    <tr>\n",
       "      <th>63321</th>\n",
       "      <td>JZI</td>\n",
       "      <td>Airlines</td>\n",
       "      <td>Online</td>\n",
       "      <td>Basic Plan</td>\n",
       "      <td>No</td>\n",
       "      <td>111</td>\n",
       "      <td>JAPAN</td>\n",
       "      <td>35.0</td>\n",
       "      <td>12.25</td>\n",
       "      <td>M</td>\n",
       "      <td>31</td>\n",
       "    </tr>\n",
       "    <tr>\n",
       "      <th>63322</th>\n",
       "      <td>JZI</td>\n",
       "      <td>Airlines</td>\n",
       "      <td>Online</td>\n",
       "      <td>Basic Plan</td>\n",
       "      <td>No</td>\n",
       "      <td>58</td>\n",
       "      <td>CHINA</td>\n",
       "      <td>40.0</td>\n",
       "      <td>14.00</td>\n",
       "      <td>F</td>\n",
       "      <td>40</td>\n",
       "    </tr>\n",
       "    <tr>\n",
       "      <th>63323</th>\n",
       "      <td>JZI</td>\n",
       "      <td>Airlines</td>\n",
       "      <td>Online</td>\n",
       "      <td>Basic Plan</td>\n",
       "      <td>No</td>\n",
       "      <td>2</td>\n",
       "      <td>MALAYSIA</td>\n",
       "      <td>18.0</td>\n",
       "      <td>6.30</td>\n",
       "      <td>M</td>\n",
       "      <td>57</td>\n",
       "    </tr>\n",
       "    <tr>\n",
       "      <th>63324</th>\n",
       "      <td>JZI</td>\n",
       "      <td>Airlines</td>\n",
       "      <td>Online</td>\n",
       "      <td>Basic Plan</td>\n",
       "      <td>No</td>\n",
       "      <td>3</td>\n",
       "      <td>VIET NAM</td>\n",
       "      <td>18.0</td>\n",
       "      <td>6.30</td>\n",
       "      <td>M</td>\n",
       "      <td>63</td>\n",
       "    </tr>\n",
       "    <tr>\n",
       "      <th>63325</th>\n",
       "      <td>JZI</td>\n",
       "      <td>Airlines</td>\n",
       "      <td>Online</td>\n",
       "      <td>Basic Plan</td>\n",
       "      <td>No</td>\n",
       "      <td>22</td>\n",
       "      <td>HONG KONG</td>\n",
       "      <td>26.0</td>\n",
       "      <td>9.10</td>\n",
       "      <td>F</td>\n",
       "      <td>35</td>\n",
       "    </tr>\n",
       "  </tbody>\n",
       "</table>\n",
       "<p>63326 rows × 11 columns</p>\n",
       "</div>"
      ],
      "text/plain": [
       "      Agency    Agency Type Distribution Channel  \\\n",
       "0        CBH  Travel Agency              Offline   \n",
       "1        CBH  Travel Agency              Offline   \n",
       "2        CWT  Travel Agency               Online   \n",
       "3        CWT  Travel Agency               Online   \n",
       "4        CWT  Travel Agency               Online   \n",
       "...      ...            ...                  ...   \n",
       "63321    JZI       Airlines               Online   \n",
       "63322    JZI       Airlines               Online   \n",
       "63323    JZI       Airlines               Online   \n",
       "63324    JZI       Airlines               Online   \n",
       "63325    JZI       Airlines               Online   \n",
       "\n",
       "                          Product Name Claim  Duration Destination  Net Sales  \\\n",
       "0                   Comprehensive Plan    No       186    MALAYSIA      -29.0   \n",
       "1                   Comprehensive Plan    No       186    MALAYSIA      -29.0   \n",
       "2      Rental Vehicle Excess Insurance    No        65   AUSTRALIA      -49.5   \n",
       "3      Rental Vehicle Excess Insurance    No        60   AUSTRALIA      -39.6   \n",
       "4      Rental Vehicle Excess Insurance    No        79       ITALY      -19.8   \n",
       "...                                ...   ...       ...         ...        ...   \n",
       "63321                       Basic Plan    No       111       JAPAN       35.0   \n",
       "63322                       Basic Plan    No        58       CHINA       40.0   \n",
       "63323                       Basic Plan    No         2    MALAYSIA       18.0   \n",
       "63324                       Basic Plan    No         3    VIET NAM       18.0   \n",
       "63325                       Basic Plan    No        22   HONG KONG       26.0   \n",
       "\n",
       "       Commision (in value) Gender  Age  \n",
       "0                      9.57      F   81  \n",
       "1                      9.57      F   71  \n",
       "2                     29.70    NaN   32  \n",
       "3                     23.76    NaN   32  \n",
       "4                     11.88    NaN   41  \n",
       "...                     ...    ...  ...  \n",
       "63321                 12.25      M   31  \n",
       "63322                 14.00      F   40  \n",
       "63323                  6.30      M   57  \n",
       "63324                  6.30      M   63  \n",
       "63325                  9.10      F   35  \n",
       "\n",
       "[63326 rows x 11 columns]"
      ]
     },
     "execution_count": 2,
     "metadata": {},
     "output_type": "execute_result"
    }
   ],
   "source": [
    "dhya = pd.read_csv('travel_insurance.csv')\n",
    "dhya"
   ]
  },
  {
   "cell_type": "markdown",
   "metadata": {},
   "source": [
    "Tipe data dataset"
   ]
  },
  {
   "cell_type": "code",
   "execution_count": 3,
   "metadata": {},
   "outputs": [
    {
     "name": "stdout",
     "output_type": "stream",
     "text": [
      "<class 'pandas.core.frame.DataFrame'>\n",
      "RangeIndex: 63326 entries, 0 to 63325\n",
      "Data columns (total 11 columns):\n",
      " #   Column                Non-Null Count  Dtype  \n",
      "---  ------                --------------  -----  \n",
      " 0   Agency                63326 non-null  object \n",
      " 1   Agency Type           63326 non-null  object \n",
      " 2   Distribution Channel  63326 non-null  object \n",
      " 3   Product Name          63326 non-null  object \n",
      " 4   Claim                 63326 non-null  object \n",
      " 5   Duration              63326 non-null  int64  \n",
      " 6   Destination           63326 non-null  object \n",
      " 7   Net Sales             63326 non-null  float64\n",
      " 8   Commision (in value)  63326 non-null  float64\n",
      " 9   Gender                18219 non-null  object \n",
      " 10  Age                   63326 non-null  int64  \n",
      "dtypes: float64(2), int64(2), object(7)\n",
      "memory usage: 5.3+ MB\n"
     ]
    }
   ],
   "source": [
    "dhya.info()"
   ]
  },
  {
   "cell_type": "markdown",
   "metadata": {},
   "source": [
    "Melakukan data cleaning pada data dengan nilai duplikat"
   ]
  },
  {
   "cell_type": "code",
   "execution_count": 4,
   "metadata": {},
   "outputs": [],
   "source": [
    "dhya.drop_duplicates(inplace=True)"
   ]
  },
  {
   "cell_type": "markdown",
   "metadata": {},
   "source": [
    "### A. SUPERVISED LEARNING ###"
   ]
  },
  {
   "cell_type": "markdown",
   "metadata": {},
   "source": [
    "#### A1. Mengimplementasikan metode ####"
   ]
  },
  {
   "cell_type": "markdown",
   "metadata": {},
   "source": [
    "a. Support Vector Clustering menggunakan SVM"
   ]
  },
  {
   "cell_type": "code",
   "execution_count": 81,
   "metadata": {},
   "outputs": [],
   "source": [
    "X2 = dhya[['Net Sales', 'Commision (in value)']]\n",
    "y2 = dhya['Agency']\n",
    "\n",
    "# Mengubah nilai yang bukan CBH menjadi non-CBH\n",
    "y2 = np.where(y2 == 'CBH', 'CBH', 'Non-CBH')"
   ]
  },
  {
   "cell_type": "code",
   "execution_count": 84,
   "metadata": {},
   "outputs": [],
   "source": [
    "X_train2, X_test2, y_train2, y_test2 = train_test_split(\n",
    "    X2, y2, test_size=0.2, random_state=30\n",
    ")"
   ]
  },
  {
   "cell_type": "code",
   "execution_count": 85,
   "metadata": {},
   "outputs": [
    {
     "data": {
      "text/html": [
       "<style>#sk-container-id-4 {color: black;}#sk-container-id-4 pre{padding: 0;}#sk-container-id-4 div.sk-toggleable {background-color: white;}#sk-container-id-4 label.sk-toggleable__label {cursor: pointer;display: block;width: 100%;margin-bottom: 0;padding: 0.3em;box-sizing: border-box;text-align: center;}#sk-container-id-4 label.sk-toggleable__label-arrow:before {content: \"▸\";float: left;margin-right: 0.25em;color: #696969;}#sk-container-id-4 label.sk-toggleable__label-arrow:hover:before {color: black;}#sk-container-id-4 div.sk-estimator:hover label.sk-toggleable__label-arrow:before {color: black;}#sk-container-id-4 div.sk-toggleable__content {max-height: 0;max-width: 0;overflow: hidden;text-align: left;background-color: #f0f8ff;}#sk-container-id-4 div.sk-toggleable__content pre {margin: 0.2em;color: black;border-radius: 0.25em;background-color: #f0f8ff;}#sk-container-id-4 input.sk-toggleable__control:checked~div.sk-toggleable__content {max-height: 200px;max-width: 100%;overflow: auto;}#sk-container-id-4 input.sk-toggleable__control:checked~label.sk-toggleable__label-arrow:before {content: \"▾\";}#sk-container-id-4 div.sk-estimator input.sk-toggleable__control:checked~label.sk-toggleable__label {background-color: #d4ebff;}#sk-container-id-4 div.sk-label input.sk-toggleable__control:checked~label.sk-toggleable__label {background-color: #d4ebff;}#sk-container-id-4 input.sk-hidden--visually {border: 0;clip: rect(1px 1px 1px 1px);clip: rect(1px, 1px, 1px, 1px);height: 1px;margin: -1px;overflow: hidden;padding: 0;position: absolute;width: 1px;}#sk-container-id-4 div.sk-estimator {font-family: monospace;background-color: #f0f8ff;border: 1px dotted black;border-radius: 0.25em;box-sizing: border-box;margin-bottom: 0.5em;}#sk-container-id-4 div.sk-estimator:hover {background-color: #d4ebff;}#sk-container-id-4 div.sk-parallel-item::after {content: \"\";width: 100%;border-bottom: 1px solid gray;flex-grow: 1;}#sk-container-id-4 div.sk-label:hover label.sk-toggleable__label {background-color: #d4ebff;}#sk-container-id-4 div.sk-serial::before {content: \"\";position: absolute;border-left: 1px solid gray;box-sizing: border-box;top: 0;bottom: 0;left: 50%;z-index: 0;}#sk-container-id-4 div.sk-serial {display: flex;flex-direction: column;align-items: center;background-color: white;padding-right: 0.2em;padding-left: 0.2em;position: relative;}#sk-container-id-4 div.sk-item {position: relative;z-index: 1;}#sk-container-id-4 div.sk-parallel {display: flex;align-items: stretch;justify-content: center;background-color: white;position: relative;}#sk-container-id-4 div.sk-item::before, #sk-container-id-4 div.sk-parallel-item::before {content: \"\";position: absolute;border-left: 1px solid gray;box-sizing: border-box;top: 0;bottom: 0;left: 50%;z-index: -1;}#sk-container-id-4 div.sk-parallel-item {display: flex;flex-direction: column;z-index: 1;position: relative;background-color: white;}#sk-container-id-4 div.sk-parallel-item:first-child::after {align-self: flex-end;width: 50%;}#sk-container-id-4 div.sk-parallel-item:last-child::after {align-self: flex-start;width: 50%;}#sk-container-id-4 div.sk-parallel-item:only-child::after {width: 0;}#sk-container-id-4 div.sk-dashed-wrapped {border: 1px dashed gray;margin: 0 0.4em 0.5em 0.4em;box-sizing: border-box;padding-bottom: 0.4em;background-color: white;}#sk-container-id-4 div.sk-label label {font-family: monospace;font-weight: bold;display: inline-block;line-height: 1.2em;}#sk-container-id-4 div.sk-label-container {text-align: center;}#sk-container-id-4 div.sk-container {/* jupyter's `normalize.less` sets `[hidden] { display: none; }` but bootstrap.min.css set `[hidden] { display: none !important; }` so we also need the `!important` here to be able to override the default hidden behavior on the sphinx rendered scikit-learn.org. See: https://github.com/scikit-learn/scikit-learn/issues/21755 */display: inline-block !important;position: relative;}#sk-container-id-4 div.sk-text-repr-fallback {display: none;}</style><div id=\"sk-container-id-4\" class=\"sk-top-container\"><div class=\"sk-text-repr-fallback\"><pre>SVC(kernel=&#x27;linear&#x27;)</pre><b>In a Jupyter environment, please rerun this cell to show the HTML representation or trust the notebook. <br />On GitHub, the HTML representation is unable to render, please try loading this page with nbviewer.org.</b></div><div class=\"sk-container\" hidden><div class=\"sk-item\"><div class=\"sk-estimator sk-toggleable\"><input class=\"sk-toggleable__control sk-hidden--visually\" id=\"sk-estimator-id-4\" type=\"checkbox\" checked><label for=\"sk-estimator-id-4\" class=\"sk-toggleable__label sk-toggleable__label-arrow\">SVC</label><div class=\"sk-toggleable__content\"><pre>SVC(kernel=&#x27;linear&#x27;)</pre></div></div></div></div></div>"
      ],
      "text/plain": [
       "SVC(kernel='linear')"
      ]
     },
     "execution_count": 85,
     "metadata": {},
     "output_type": "execute_result"
    }
   ],
   "source": [
    "svm = SVC(kernel=\"linear\")\n",
    "svm.fit(X_train2, y_train2)"
   ]
  },
  {
   "cell_type": "code",
   "execution_count": 89,
   "metadata": {},
   "outputs": [
    {
     "data": {
      "text/plain": [
       "array([[ 2.9000e+01,  9.5700e+00],\n",
       "       [ 2.9000e+01,  9.5700e+00],\n",
       "       [ 2.9000e+01,  9.5700e+00],\n",
       "       [ 2.9000e+01,  9.5700e+00],\n",
       "       [ 2.9000e+01,  9.5700e+00],\n",
       "       [ 2.9000e+01,  9.5700e+00],\n",
       "       [ 2.9000e+01,  9.5700e+00],\n",
       "       [ 2.9000e+01,  9.5700e+00],\n",
       "       [ 2.9000e+01,  9.5700e+00],\n",
       "       [ 2.9000e+01,  9.5700e+00],\n",
       "       [ 2.9000e+01,  9.5700e+00],\n",
       "       [ 2.9000e+01,  9.5700e+00],\n",
       "       [ 2.9000e+01,  9.5700e+00],\n",
       "       [ 2.9000e+01,  9.5700e+00],\n",
       "       [ 2.9000e+01,  9.5700e+00],\n",
       "       [ 2.9000e+01,  9.5700e+00],\n",
       "       [ 0.0000e+00,  9.5700e+00],\n",
       "       [ 2.9000e+01,  9.5700e+00],\n",
       "       [ 2.9000e+01,  9.5700e+00],\n",
       "       [ 2.9000e+01,  9.5700e+00],\n",
       "       [ 2.9000e+01,  9.5700e+00],\n",
       "       [ 2.9000e+01,  9.5700e+00],\n",
       "       [ 2.9000e+01,  9.5700e+00],\n",
       "       [ 2.9000e+01,  9.5700e+00],\n",
       "       [ 2.9000e+01,  9.5700e+00],\n",
       "       [ 2.9000e+01,  9.5700e+00],\n",
       "       [ 2.9000e+01,  9.5700e+00],\n",
       "       [ 2.9000e+01,  9.5700e+00],\n",
       "       [ 2.9000e+01,  9.5700e+00],\n",
       "       [ 2.9000e+01,  9.5700e+00],\n",
       "       [ 2.9000e+01,  9.5700e+00],\n",
       "       [ 2.9000e+01,  9.5700e+00],\n",
       "       [ 2.9000e+01,  9.5700e+00],\n",
       "       [ 2.9000e+01,  9.5700e+00],\n",
       "       [ 2.9000e+01,  9.5700e+00],\n",
       "       [ 2.9000e+01,  9.5700e+00],\n",
       "       [ 2.9000e+01,  9.5700e+00],\n",
       "       [ 2.9000e+01,  9.5700e+00],\n",
       "       [ 2.9000e+01,  9.5700e+00],\n",
       "       [ 2.9000e+01,  9.5700e+00],\n",
       "       [ 2.9000e+01,  9.5700e+00],\n",
       "       [ 2.9000e+01,  9.5700e+00],\n",
       "       [ 2.9000e+01,  9.5700e+00],\n",
       "       [ 2.9000e+01,  9.5700e+00],\n",
       "       [ 2.9000e+01,  9.5700e+00],\n",
       "       [ 2.9000e+01,  9.5700e+00],\n",
       "       [ 2.9000e+01,  9.5700e+00],\n",
       "       [ 2.9000e+01,  9.5700e+00],\n",
       "       [ 2.9000e+01,  9.5700e+00],\n",
       "       [ 2.9000e+01,  9.5700e+00],\n",
       "       [ 2.9000e+01,  9.5700e+00],\n",
       "       [-2.9000e+01,  9.5700e+00],\n",
       "       [ 2.9000e+01,  9.5700e+00],\n",
       "       [ 2.9000e+01,  9.5700e+00],\n",
       "       [-2.9000e+01,  9.5700e+00],\n",
       "       [ 0.0000e+00,  2.4090e+01],\n",
       "       [ 0.0000e+00,  9.5700e+00],\n",
       "       [ 2.9000e+01,  9.5700e+00],\n",
       "       [ 2.9000e+01,  9.5700e+00],\n",
       "       [ 2.9000e+01,  9.5700e+00],\n",
       "       [ 2.9000e+01,  9.5700e+00],\n",
       "       [ 2.9000e+01,  9.5700e+00],\n",
       "       [ 2.9000e+01,  9.5700e+00],\n",
       "       [ 2.9000e+01,  9.5700e+00],\n",
       "       [ 2.9000e+01,  9.5700e+00],\n",
       "       [ 2.9000e+01,  9.5700e+00],\n",
       "       [ 2.9000e+01,  9.5700e+00],\n",
       "       [ 2.9000e+01,  9.5700e+00],\n",
       "       [ 2.9000e+01,  9.5700e+00],\n",
       "       [ 2.9000e+01,  9.5700e+00],\n",
       "       [ 2.9000e+01,  9.5700e+00],\n",
       "       [ 2.9000e+01,  9.5700e+00],\n",
       "       [ 2.9000e+01,  9.5700e+00],\n",
       "       [ 2.9000e+01,  9.5700e+00],\n",
       "       [ 2.9000e+01,  9.5700e+00],\n",
       "       [ 2.9000e+01,  9.5700e+00],\n",
       "       [ 2.9000e+01,  9.5700e+00],\n",
       "       [ 7.6000e+01,  2.5080e+01],\n",
       "       [ 2.9000e+01,  9.5700e+00],\n",
       "       [ 2.9000e+01,  9.5700e+00],\n",
       "       [ 2.9000e+01,  9.5700e+00],\n",
       "       [ 2.9000e+01,  9.5700e+00],\n",
       "       [ 0.0000e+00,  9.5700e+00],\n",
       "       [ 2.9000e+01,  9.5700e+00],\n",
       "       [ 2.9000e+01,  9.5700e+00],\n",
       "       [ 2.9000e+01,  9.5700e+00],\n",
       "       [ 7.6200e+01,  1.9050e+01],\n",
       "       [ 0.0000e+00,  9.7500e+00],\n",
       "       [ 7.5960e+01,  2.6590e+01],\n",
       "       [ 2.6063e+02,  6.5160e+01],\n",
       "       [-2.9175e+02,  7.2940e+01],\n",
       "       [-1.5000e+01,  0.0000e+00],\n",
       "       [-2.7000e+01,  6.7500e+00],\n",
       "       [ 2.9000e+01,  9.5700e+00],\n",
       "       [-2.5070e+01,  8.7700e+00],\n",
       "       [ 2.9000e+01,  9.5700e+00],\n",
       "       [ 2.9000e+01,  9.5700e+00],\n",
       "       [-2.1000e+01,  0.0000e+00],\n",
       "       [ 2.9000e+01,  9.5700e+00],\n",
       "       [-3.0000e+01,  1.0500e+01],\n",
       "       [-3.1000e+01,  1.2400e+01],\n",
       "       [ 2.9000e+01,  9.5700e+00],\n",
       "       [ 0.0000e+00,  9.5700e+00],\n",
       "       [ 2.9000e+01,  9.5700e+00],\n",
       "       [ 2.9000e+01,  9.5700e+00],\n",
       "       [ 2.9000e+01,  9.5700e+00],\n",
       "       [ 2.9000e+01,  9.5700e+00],\n",
       "       [ 2.9000e+01,  9.5700e+00],\n",
       "       [ 2.9000e+01,  9.5700e+00],\n",
       "       [ 2.9000e+01,  9.5700e+00],\n",
       "       [ 2.9000e+01,  9.5700e+00],\n",
       "       [ 2.9000e+01,  9.5700e+00],\n",
       "       [ 2.9000e+01,  9.5700e+00],\n",
       "       [ 2.9000e+01,  9.5700e+00],\n",
       "       [ 0.0000e+00,  2.4150e+01],\n",
       "       [ 1.3900e+02,  3.4750e+01],\n",
       "       [ 2.9000e+01,  9.5700e+00],\n",
       "       [ 2.9000e+01,  9.5700e+00],\n",
       "       [ 2.9000e+01,  9.5700e+00],\n",
       "       [ 2.9000e+01,  9.5700e+00],\n",
       "       [ 2.9000e+01,  9.5700e+00],\n",
       "       [ 2.9000e+01,  9.5700e+00],\n",
       "       [-2.9000e+01,  0.0000e+00],\n",
       "       [ 2.9000e+01,  9.5700e+00],\n",
       "       [ 2.9000e+01,  9.5700e+00],\n",
       "       [ 1.1570e+02,  2.8930e+01],\n",
       "       [ 2.9000e+01,  9.5700e+00],\n",
       "       [ 2.9000e+01,  9.5700e+00],\n",
       "       [ 2.9000e+01,  9.5700e+00],\n",
       "       [ 2.9000e+01,  9.5700e+00],\n",
       "       [ 2.9000e+01,  9.5700e+00],\n",
       "       [ 2.9000e+01,  9.5700e+00],\n",
       "       [ 2.9000e+01,  9.5700e+00],\n",
       "       [ 2.9000e+01,  9.5700e+00],\n",
       "       [ 2.9000e+01,  9.5700e+00],\n",
       "       [ 2.9000e+01,  9.5700e+00],\n",
       "       [ 2.9000e+01,  9.5700e+00],\n",
       "       [ 2.9000e+01,  9.5700e+00],\n",
       "       [ 1.3500e+02,  0.0000e+00],\n",
       "       [ 2.9000e+01,  9.5700e+00],\n",
       "       [ 2.9000e+01,  9.5700e+00],\n",
       "       [ 2.9000e+01,  9.5700e+00],\n",
       "       [ 2.9000e+01,  9.5700e+00],\n",
       "       [ 2.9000e+01,  9.5700e+00],\n",
       "       [ 2.9000e+01,  9.5700e+00],\n",
       "       [ 2.9000e+01,  9.5700e+00],\n",
       "       [ 2.9000e+01,  9.5700e+00],\n",
       "       [ 2.9000e+01,  9.5700e+00],\n",
       "       [ 2.9000e+01,  9.5700e+00],\n",
       "       [ 2.9000e+01,  9.5700e+00],\n",
       "       [ 2.9000e+01,  9.5700e+00],\n",
       "       [ 2.9000e+01,  9.5700e+00],\n",
       "       [ 2.9000e+01,  9.5700e+00],\n",
       "       [ 2.9000e+01,  9.5700e+00],\n",
       "       [ 2.9000e+01,  9.5700e+00],\n",
       "       [ 2.9000e+01,  9.5700e+00],\n",
       "       [ 0.0000e+00,  2.2910e+01],\n",
       "       [-7.0000e-02,  2.0000e-02],\n",
       "       [ 2.9000e+01,  9.5700e+00],\n",
       "       [ 6.9500e+01,  1.7380e+01],\n",
       "       [ 4.3290e+02,  1.0822e+02],\n",
       "       [ 1.9320e+02,  4.8300e+01],\n",
       "       [ 1.0800e+02,  0.0000e+00],\n",
       "       [ 2.8000e+01,  1.0640e+01],\n",
       "       [ 2.9000e+01,  9.5700e+00],\n",
       "       [ 2.9000e+01,  9.5700e+00],\n",
       "       [ 7.9000e+01,  0.0000e+00],\n",
       "       [ 7.7000e+01,  0.0000e+00],\n",
       "       [ 2.9000e+01,  9.5700e+00],\n",
       "       [ 2.9000e+01,  9.5700e+00],\n",
       "       [ 2.9000e+01,  9.5700e+00],\n",
       "       [ 2.9000e+01,  9.5700e+00],\n",
       "       [ 2.9000e+01,  9.5700e+00],\n",
       "       [ 0.0000e+00,  9.7500e+00],\n",
       "       [-2.6500e+01,  1.7230e+01],\n",
       "       [ 2.9000e+01,  9.5700e+00],\n",
       "       [ 2.9000e+01,  9.5700e+00],\n",
       "       [ 2.9000e+01,  9.5700e+00],\n",
       "       [-3.0000e+01,  1.0500e+01],\n",
       "       [ 2.9000e+01,  9.5700e+00],\n",
       "       [ 2.3340e+02,  5.8350e+01],\n",
       "       [ 2.9000e+01,  9.5700e+00],\n",
       "       [ 6.9500e+01,  1.7380e+01],\n",
       "       [ 2.9000e+01,  9.5700e+00],\n",
       "       [ 2.9000e+01,  9.5700e+00],\n",
       "       [ 2.9000e+01,  9.5700e+00],\n",
       "       [ 2.9000e+01,  9.5700e+00],\n",
       "       [ 2.9000e+01,  9.5700e+00],\n",
       "       [-2.6500e+01,  6.6300e+00],\n",
       "       [ 2.9000e+01,  9.5700e+00],\n",
       "       [ 2.9000e+01,  9.5700e+00],\n",
       "       [ 2.9000e+01,  9.5700e+00],\n",
       "       [ 2.9000e+01,  9.5700e+00],\n",
       "       [ 1.0800e+02,  0.0000e+00],\n",
       "       [ 2.9000e+01,  9.5700e+00],\n",
       "       [ 2.9000e+01,  9.5700e+00],\n",
       "       [ 2.8000e+01,  1.0640e+01],\n",
       "       [ 2.9000e+01,  9.5700e+00],\n",
       "       [ 1.9320e+02,  4.8300e+01],\n",
       "       [ 2.9000e+01,  9.5700e+00]])"
      ]
     },
     "execution_count": 89,
     "metadata": {},
     "output_type": "execute_result"
    }
   ],
   "source": [
    "y_pred2 = svm.predict(X_test2) #prediksi dengan X_test dari dhya\n",
    "\n",
    "sv = svm.support_vectors_ # ambil nilai support vector dari objek\n",
    "sv"
   ]
  },
  {
   "cell_type": "markdown",
   "metadata": {},
   "source": [
    "b. Regression Linear"
   ]
  },
  {
   "cell_type": "code",
   "execution_count": 55,
   "metadata": {},
   "outputs": [],
   "source": [
    "X = dhya[['Net Sales']]\n",
    "y = dhya['Commision (in value)']"
   ]
  },
  {
   "cell_type": "markdown",
   "metadata": {},
   "source": [
    "Mengatur perbandingan training set dan test set menjadi 80:20"
   ]
  },
  {
   "cell_type": "code",
   "execution_count": 56,
   "metadata": {},
   "outputs": [],
   "source": [
    "X_train, X_test, y_train, y_test = train_test_split(\n",
    "    X, y, test_size=0.2, random_state=0\n",
    ")"
   ]
  },
  {
   "cell_type": "markdown",
   "metadata": {},
   "source": [
    "melatih model regresi linear"
   ]
  },
  {
   "cell_type": "code",
   "execution_count": 57,
   "metadata": {},
   "outputs": [
    {
     "data": {
      "text/html": [
       "<style>#sk-container-id-3 {color: black;}#sk-container-id-3 pre{padding: 0;}#sk-container-id-3 div.sk-toggleable {background-color: white;}#sk-container-id-3 label.sk-toggleable__label {cursor: pointer;display: block;width: 100%;margin-bottom: 0;padding: 0.3em;box-sizing: border-box;text-align: center;}#sk-container-id-3 label.sk-toggleable__label-arrow:before {content: \"▸\";float: left;margin-right: 0.25em;color: #696969;}#sk-container-id-3 label.sk-toggleable__label-arrow:hover:before {color: black;}#sk-container-id-3 div.sk-estimator:hover label.sk-toggleable__label-arrow:before {color: black;}#sk-container-id-3 div.sk-toggleable__content {max-height: 0;max-width: 0;overflow: hidden;text-align: left;background-color: #f0f8ff;}#sk-container-id-3 div.sk-toggleable__content pre {margin: 0.2em;color: black;border-radius: 0.25em;background-color: #f0f8ff;}#sk-container-id-3 input.sk-toggleable__control:checked~div.sk-toggleable__content {max-height: 200px;max-width: 100%;overflow: auto;}#sk-container-id-3 input.sk-toggleable__control:checked~label.sk-toggleable__label-arrow:before {content: \"▾\";}#sk-container-id-3 div.sk-estimator input.sk-toggleable__control:checked~label.sk-toggleable__label {background-color: #d4ebff;}#sk-container-id-3 div.sk-label input.sk-toggleable__control:checked~label.sk-toggleable__label {background-color: #d4ebff;}#sk-container-id-3 input.sk-hidden--visually {border: 0;clip: rect(1px 1px 1px 1px);clip: rect(1px, 1px, 1px, 1px);height: 1px;margin: -1px;overflow: hidden;padding: 0;position: absolute;width: 1px;}#sk-container-id-3 div.sk-estimator {font-family: monospace;background-color: #f0f8ff;border: 1px dotted black;border-radius: 0.25em;box-sizing: border-box;margin-bottom: 0.5em;}#sk-container-id-3 div.sk-estimator:hover {background-color: #d4ebff;}#sk-container-id-3 div.sk-parallel-item::after {content: \"\";width: 100%;border-bottom: 1px solid gray;flex-grow: 1;}#sk-container-id-3 div.sk-label:hover label.sk-toggleable__label {background-color: #d4ebff;}#sk-container-id-3 div.sk-serial::before {content: \"\";position: absolute;border-left: 1px solid gray;box-sizing: border-box;top: 0;bottom: 0;left: 50%;z-index: 0;}#sk-container-id-3 div.sk-serial {display: flex;flex-direction: column;align-items: center;background-color: white;padding-right: 0.2em;padding-left: 0.2em;position: relative;}#sk-container-id-3 div.sk-item {position: relative;z-index: 1;}#sk-container-id-3 div.sk-parallel {display: flex;align-items: stretch;justify-content: center;background-color: white;position: relative;}#sk-container-id-3 div.sk-item::before, #sk-container-id-3 div.sk-parallel-item::before {content: \"\";position: absolute;border-left: 1px solid gray;box-sizing: border-box;top: 0;bottom: 0;left: 50%;z-index: -1;}#sk-container-id-3 div.sk-parallel-item {display: flex;flex-direction: column;z-index: 1;position: relative;background-color: white;}#sk-container-id-3 div.sk-parallel-item:first-child::after {align-self: flex-end;width: 50%;}#sk-container-id-3 div.sk-parallel-item:last-child::after {align-self: flex-start;width: 50%;}#sk-container-id-3 div.sk-parallel-item:only-child::after {width: 0;}#sk-container-id-3 div.sk-dashed-wrapped {border: 1px dashed gray;margin: 0 0.4em 0.5em 0.4em;box-sizing: border-box;padding-bottom: 0.4em;background-color: white;}#sk-container-id-3 div.sk-label label {font-family: monospace;font-weight: bold;display: inline-block;line-height: 1.2em;}#sk-container-id-3 div.sk-label-container {text-align: center;}#sk-container-id-3 div.sk-container {/* jupyter's `normalize.less` sets `[hidden] { display: none; }` but bootstrap.min.css set `[hidden] { display: none !important; }` so we also need the `!important` here to be able to override the default hidden behavior on the sphinx rendered scikit-learn.org. See: https://github.com/scikit-learn/scikit-learn/issues/21755 */display: inline-block !important;position: relative;}#sk-container-id-3 div.sk-text-repr-fallback {display: none;}</style><div id=\"sk-container-id-3\" class=\"sk-top-container\"><div class=\"sk-text-repr-fallback\"><pre>LinearRegression()</pre><b>In a Jupyter environment, please rerun this cell to show the HTML representation or trust the notebook. <br />On GitHub, the HTML representation is unable to render, please try loading this page with nbviewer.org.</b></div><div class=\"sk-container\" hidden><div class=\"sk-item\"><div class=\"sk-estimator sk-toggleable\"><input class=\"sk-toggleable__control sk-hidden--visually\" id=\"sk-estimator-id-3\" type=\"checkbox\" checked><label for=\"sk-estimator-id-3\" class=\"sk-toggleable__label sk-toggleable__label-arrow\">LinearRegression</label><div class=\"sk-toggleable__content\"><pre>LinearRegression()</pre></div></div></div></div></div>"
      ],
      "text/plain": [
       "LinearRegression()"
      ]
     },
     "execution_count": 57,
     "metadata": {},
     "output_type": "execute_result"
    }
   ],
   "source": [
    "reg = LinearRegression()\n",
    "reg.fit(X_train, y_train)"
   ]
  },
  {
   "cell_type": "markdown",
   "metadata": {},
   "source": [
    "Melakukan prediksi"
   ]
  },
  {
   "cell_type": "code",
   "execution_count": 58,
   "metadata": {},
   "outputs": [],
   "source": [
    "y_pred = reg.predict(X_test)"
   ]
  },
  {
   "cell_type": "code",
   "execution_count": 59,
   "metadata": {},
   "outputs": [
    {
     "data": {
      "text/plain": [
       "0.4465094624032867"
      ]
     },
     "execution_count": 59,
     "metadata": {},
     "output_type": "execute_result"
    }
   ],
   "source": [
    "y_score = reg.score(X_test, y_test)\n",
    "y_score"
   ]
  },
  {
   "cell_type": "markdown",
   "metadata": {},
   "source": [
    "#### A2. Hasil Prediksi ####"
   ]
  },
  {
   "cell_type": "markdown",
   "metadata": {},
   "source": [
    "a. Klasifikasi"
   ]
  },
  {
   "cell_type": "code",
   "execution_count": 19,
   "metadata": {},
   "outputs": [],
   "source": [
    "from sklearn.metrics import confusion_matrix\n",
    "from sklearn.metrics import classification_report as cr"
   ]
  },
  {
   "cell_type": "code",
   "execution_count": 20,
   "metadata": {},
   "outputs": [
    {
     "data": {
      "text/plain": [
       "array([[    0,    15],\n",
       "       [    0, 11042]], dtype=int64)"
      ]
     },
     "execution_count": 20,
     "metadata": {},
     "output_type": "execute_result"
    }
   ],
   "source": [
    "# Hitung confusion matrix\n",
    "cm = confusion_matrix(y_test2 ,y_pred2)\n",
    "cm"
   ]
  },
  {
   "cell_type": "code",
   "execution_count": 21,
   "metadata": {},
   "outputs": [
    {
     "data": {
      "image/png": "[encoded data removed]",
      "text/plain": [
       "<Figure size 1000x800 with 2 Axes>"
      ]
     },
     "metadata": {},
     "output_type": "display_data"
    }
   ],
   "source": [
    "\n",
    "plt.figure(figsize=(10,8))\n",
    "sns.heatmap(cm, annot=True, fmt='.2f', cmap='Blues')\n",
    "plt.xlabel('Predicted')\n",
    "plt.ylabel('Truth')\n",
    "plt.title('Confusion Matrix SVM')\n",
    "plt.show()"
   ]
  },
  {
   "cell_type": "code",
   "execution_count": 22,
   "metadata": {},
   "outputs": [
    {
     "name": "stdout",
     "output_type": "stream",
     "text": [
      "              precision    recall  f1-score   support\n",
      "\n",
      "         CBH       0.00      0.00      0.00        15\n",
      "     Non-CBH       1.00      1.00      1.00     11042\n",
      "\n",
      "    accuracy                           1.00     11057\n",
      "   macro avg       0.50      0.50      0.50     11057\n",
      "weighted avg       1.00      1.00      1.00     11057\n",
      "\n"
     ]
    },
    {
     "name": "stderr",
     "output_type": "stream",
     "text": [
      "c:\\Users\\Raudhya Azzahra'\\AppData\\Local\\Programs\\Python\\Python310\\lib\\site-packages\\sklearn\\metrics\\_classification.py:1469: UndefinedMetricWarning: Precision and F-score are ill-defined and being set to 0.0 in labels with no predicted samples. Use `zero_division` parameter to control this behavior.\n",
      "  _warn_prf(average, modifier, msg_start, len(result))\n",
      "c:\\Users\\Raudhya Azzahra'\\AppData\\Local\\Programs\\Python\\Python310\\lib\\site-packages\\sklearn\\metrics\\_classification.py:1469: UndefinedMetricWarning: Precision and F-score are ill-defined and being set to 0.0 in labels with no predicted samples. Use `zero_division` parameter to control this behavior.\n",
      "  _warn_prf(average, modifier, msg_start, len(result))\n",
      "c:\\Users\\Raudhya Azzahra'\\AppData\\Local\\Programs\\Python\\Python310\\lib\\site-packages\\sklearn\\metrics\\_classification.py:1469: UndefinedMetricWarning: Precision and F-score are ill-defined and being set to 0.0 in labels with no predicted samples. Use `zero_division` parameter to control this behavior.\n",
      "  _warn_prf(average, modifier, msg_start, len(result))\n"
     ]
    }
   ],
   "source": [
    "result = cr(y_test2, y_pred2)\n",
    "print(result)"
   ]
  },
  {
   "cell_type": "markdown",
   "metadata": {},
   "source": [
    "\n",
    "Hasil prediksi ini menunjukkan bahwa model klasifikasi memiliki tingkat akurasi yang tinggi (1.00 atau 100%), tetapi kinerjanya sangat buruk dalam mengklasifikasikan kelas minoritas 'CBH', dengan presisi, recall, dan skor F1 sebesar 0.00. Model ini cenderung hanya memprediksi mayoritas kelas 'Non-CBH' dan menghasilkan akurasi yang tinggi."
   ]
  },
  {
   "cell_type": "markdown",
   "metadata": {},
   "source": [
    "b. Regresi"
   ]
  },
  {
   "cell_type": "code",
   "execution_count": 52,
   "metadata": {},
   "outputs": [],
   "source": [
    "from sklearn.metrics import mean_absolute_error, mean_squared_error, r2_score\n",
    "from numpy import sqrt"
   ]
  },
  {
   "cell_type": "code",
   "execution_count": 62,
   "metadata": {},
   "outputs": [
    {
     "name": "stdout",
     "output_type": "stream",
     "text": [
      " MAE 9.313071404071467\n",
      " MSE 247.14168806790056\n",
      " RMSE 15.720740697177744\n",
      " R2 0.4465094624032867\n"
     ]
    }
   ],
   "source": [
    "mae = mean_absolute_error(y_test, y_pred)\n",
    "mse = mean_squared_error(y_test, y_pred)\n",
    "rmse = sqrt(mse)\n",
    "r2 = r2_score(y_test, y_pred)\n",
    "\n",
    "# print (mae, mse, rmse, r2, sep='\\n')\n",
    "print(f\" MAE {mae}\\n MSE {mse}\\n RMSE {rmse}\\n R2 {r2}\")"
   ]
  },
  {
   "cell_type": "markdown",
   "metadata": {},
   "source": [
    "\n",
    "Hasil prediksi menggambarkan bahwa model regresi memiliki tingkat kesalahan yang cukup besar dalam memprediksi nilai target. MAE sekitar 9.31, yang menggambarkan rata-rata kesalahan absolut. RMSE sekitar 15.72, mengindikasikan kesalahan dalam unit yang sama dengan variabel target. Nilai R^2 sekitar 0.45, menunjukkan bahwa model hanya mampu menjelaskan sekitar 45% variabilitas dalam data target"
   ]
  },
  {
   "cell_type": "markdown",
   "metadata": {},
   "source": [
    "#### A3. Plot Hasil Prediksi ####"
   ]
  },
  {
   "cell_type": "markdown",
   "metadata": {},
   "source": [
    "a. Menggunakan SVM"
   ]
  },
  {
   "cell_type": "code",
   "execution_count": 25,
   "metadata": {},
   "outputs": [
    {
     "name": "stderr",
     "output_type": "stream",
     "text": [
      "c:\\Users\\Raudhya Azzahra'\\AppData\\Local\\Programs\\Python\\Python310\\lib\\site-packages\\sklearn\\base.py:465: UserWarning: X does not have valid feature names, but SVC was fitted with feature names\n",
      "  warnings.warn(\n"
     ]
    },
    {
     "data": {
      "text/plain": [
       "Text(0, 0.5, 'Age')"
      ]
     },
     "execution_count": 25,
     "metadata": {},
     "output_type": "execute_result"
    },
    {
     "data": {
      "image/png": "[encoded data removed]",
      "text/plain": [
       "<Figure size 640x480 with 1 Axes>"
      ]
     },
     "metadata": {},
     "output_type": "display_data"
    }
   ],
   "source": [
    "# plot data points dari CBH\n",
    "plt.scatter(X2[y2 == 'CBH'].iloc[:,0], \n",
    "            X2[y2 == 'CBH'].iloc[:,1], \n",
    "            s=40, c='green', marker='o', label='CBH')\n",
    "\n",
    "#Plot data points dari non-CBH\n",
    "plt.scatter(X2[y2 == 'Non-CBH'].iloc[:,0],\n",
    "            X2[y2 == 'Non-CBH'].iloc[:,1],\n",
    "            s=40, c='orange', marker='o', label='Non-CBH')\n",
    "\n",
    "# Tampilkan Titik-Titik Support Vectors-nya\n",
    "plt.scatter(sv[:, 0], sv[:, 1], s=40,\n",
    "color='cyan', marker='+', label='Support Vectors')\n",
    "\n",
    "# Buat garis Decision Boundary (Ruang Keputusan)\n",
    "ax = plt.gca() # gca() = \"Get Current Axes\"\n",
    "xlim = ax.get_xlim()\n",
    "ylim = ax.get_ylim()\n",
    "\n",
    "# Buat sebuah meshgrid untuk evaluasi model\n",
    "xx, yy = np.meshgrid(np.linspace(xlim[0], xlim[1]), # Linear Space x\n",
    "np.linspace(ylim[0], ylim[1])) # Linear Space y\n",
    "Z = svm.decision_function(np.c_[xx.ravel(), yy.ravel()]) # Concatenate\n",
    "Z = Z.reshape(xx.shape) # Reshape titik agar sesuai dengan sumbu x\n",
    "# Buat grafik Decision Boundary dan garis Marginnya\n",
    "ax.contour(xx, yy, Z, colors='k', levels=[-1, 0, 1], alpha=0.5,\n",
    "\n",
    "linestyles=['--', '-', '--'])\n",
    "\n",
    "#Plot data points dari support vector\n",
    "# plt.scatter()\n",
    "\n",
    "plt.xlabel(\"Duration\")\n",
    "plt.ylabel(\"Age\")\n"
   ]
  },
  {
   "cell_type": "markdown",
   "metadata": {},
   "source": [
    "B. Menggunakan regresi linear"
   ]
  },
  {
   "cell_type": "code",
   "execution_count": 37,
   "metadata": {},
   "outputs": [
    {
     "data": {
      "image/png": "[encoded data removed]",
      "text/plain": [
       "<Figure size 1000x800 with 1 Axes>"
      ]
     },
     "metadata": {},
     "output_type": "display_data"
    }
   ],
   "source": [
    "plt.figure(figsize=(10,8))\n",
    "plt.scatter (X_test2, y_test2, c=\"blue\") # c = color\n",
    "plt.plot(X_test2, y_pred2, c=\"green\", linewidth=2, label='Prediksi')\n",
    "plt.legend(loc='lower right') #loc = lokasi (upper/lower)\n",
    "plt.title('Prediksi nilai Y terhadap variabel X ')\n",
    "plt.show()"
   ]
  },
  {
   "cell_type": "markdown",
   "metadata": {},
   "source": [
    "### B. UNSUPERVISED LEARNING ###"
   ]
  },
  {
   "cell_type": "markdown",
   "metadata": {},
   "source": [
    "#### B1. Mengimplementasikan metode K-MEANS ####"
   ]
  },
  {
   "cell_type": "code",
   "execution_count": 45,
   "metadata": {},
   "outputs": [],
   "source": [
    "X = dhya[['Net Sales', 'Commision (in value)']]\n",
    "K = 2\n",
    "\n",
    "kmeans = KMeans(n_clusters=K, n_init=10) \n",
    "kmeans.fit(X)\n",
    "\n",
    "cluster_labels = kmeans.labels_\n",
    "dhya[\"cluster\"] = cluster_labels\n",
    "centroids = kmeans.cluster_centers_\n",
    "cluster_mapping = {0: 1, 1: 0}\n",
    "dhya['cluster'] = dhya['cluster'].map(cluster_mapping)"
   ]
  },
  {
   "cell_type": "markdown",
   "metadata": {},
   "source": [
    "#### B2. Cluster yg telah diprediksi ####"
   ]
  },
  {
   "cell_type": "markdown",
   "metadata": {},
   "source": [
    "a. Tanpa label asli"
   ]
  },
  {
   "cell_type": "code",
   "execution_count": 68,
   "metadata": {},
   "outputs": [],
   "source": [
    "from sklearn.metrics import silhouette_score, davies_bouldin_score, calinski_harabasz_score"
   ]
  },
  {
   "cell_type": "code",
   "execution_count": 70,
   "metadata": {},
   "outputs": [
    {
     "name": "stdout",
     "output_type": "stream",
     "text": [
      "Silhouette Score: 0.81\n",
      "Davies-Bouldin Index: 0.46\n",
      "Calinski-Harabasz Index: 75558.57\n"
     ]
    }
   ],
   "source": [
    "# Menghitung metrik-metrik klastering\n",
    "def calculate_clustering_metrics(X, labels):\n",
    "    ss_score = silhouette_score(X, labels)\n",
    "    db_index = davies_bouldin_score(X, labels)\n",
    "    ch_index = calinski_harabasz_score(X, labels)\n",
    "    return ss_score, db_index, ch_index\n",
    "\n",
    "# label klastering\n",
    "labels = dhya['cluster']\n",
    "\n",
    "# Hitung metrik-metrik klastering\n",
    "ss, db, ch = calculate_clustering_metrics(X, labels)\n",
    "\n",
    "# Print hasil metrik klastering\n",
    "print(f\"Silhouette Score: {ss:.2f}\")\n",
    "print(f\"Davies-Bouldin Index: {db:.2f}\")\n",
    "print(f\"Calinski-Harabasz Index: {ch:.2f}\")\n"
   ]
  },
  {
   "cell_type": "markdown",
   "metadata": {},
   "source": [
    "Hasil clustering diatas menunjukkan bahwa kluster-kelompok yang dihasilkan cukup baik dalam memisahkan data dan menjelaskan variabilitas dalam data. Nilai Silhouette Score yang tinggi menunjukkan bahwa titik-titik dalam kluster terpisah dengan baik satu sama lain, Davies-Bouldin Index yang rendah mengindikasikan kluster yang cukup terpisah dan kompak, serta Calinski-Harabasz Index yang tinggi menunjukkan bahwa kluster mungkin menjelaskan variabilitas dalam data dengan baik."
   ]
  },
  {
   "cell_type": "markdown",
   "metadata": {},
   "source": [
    "b. Dengan label asli"
   ]
  },
  {
   "cell_type": "markdown",
   "metadata": {},
   "source": [
    "Mengubah label kategorikal menjadi numerik"
   ]
  },
  {
   "cell_type": "code",
   "execution_count": 71,
   "metadata": {},
   "outputs": [],
   "source": [
    "# Membuat objek LabelEncoder\n",
    "label_encoder = LabelEncoder()\n",
    "\n",
    "# Menggunakan LabelEncoder untuk mengubah label kategorikal menjadi numerik\n",
    "dhya['Claim'] = label_encoder.fit_transform(dhya['Claim'])"
   ]
  },
  {
   "cell_type": "code",
   "execution_count": 72,
   "metadata": {},
   "outputs": [],
   "source": [
    "from sklearn.metrics import adjusted_rand_score, normalized_mutual_info_score, homogeneity_score, completeness_score"
   ]
  },
  {
   "cell_type": "code",
   "execution_count": 76,
   "metadata": {},
   "outputs": [
    {
     "name": "stdout",
     "output_type": "stream",
     "text": [
      "Adjusted Rand Index: 0.10\n",
      "Normalized Mutual Information: 0.03\n",
      "Homogeneity: 0.05\n",
      "Completeness: 0.02\n"
     ]
    }
   ],
   "source": [
    "true_labels = dhya['Claim']\n",
    "\n",
    "# Evaluasi dengan metrik ARI\n",
    "ari_score = adjusted_rand_score(true_labels, dhya['cluster'])\n",
    "print(f\"Adjusted Rand Index: {ari_score:.2f}\")\n",
    "\n",
    "# Evaluasi dengan metrik NMI\n",
    "nmi_score = normalized_mutual_info_score(true_labels, dhya['cluster'])\n",
    "print(f\"Normalized Mutual Information: {nmi_score:.2f}\")\n",
    "\n",
    "# Evaluasi dengan metrik homogeneity\n",
    "homogeneity = homogeneity_score(true_labels, dhya['cluster'])\n",
    "print(f\"Homogeneity: {homogeneity:.2f}\")\n",
    "\n",
    "# Evaluasi dengan metrik completeness\n",
    "completeness = completeness_score(true_labels, dhya['cluster'])\n",
    "print(f\"Completeness: {completeness:.2f}\")"
   ]
  },
  {
   "cell_type": "markdown",
   "metadata": {},
   "source": [
    "Hasil clustering diatas menunjukkan kesamaan yang rendah antara kluster dan label asli. Nilai Adjusted Rand Index (ARI) dan Normalized Mutual Information (NMI) rendah, menunjukkan bahwa kluster kurang sesuai dengan label asli. Homogeneity dan completeness juga rendah, menunjukkan bahwa kluster tidak homogen dalam mengelompokkan data dan tidak menunjukkan keseluruhan yang baik. "
   ]
  },
  {
   "cell_type": "markdown",
   "metadata": {},
   "source": [
    "B3. Plot hasil clustering"
   ]
  },
  {
   "cell_type": "code",
   "execution_count": 75,
   "metadata": {},
   "outputs": [
    {
     "data": {
      "image/png": "[encoded data removed]",
      "text/plain": [
       "<Figure size 640x480 with 1 Axes>"
      ]
     },
     "metadata": {},
     "output_type": "display_data"
    }
   ],
   "source": [
    "figsize=(10,6)\n",
    "X = dhya[['Net Sales', 'Commision (in value)']]\n",
    "\n",
    "# Plot data untuk setiap cluster\n",
    "plt.scatter(X[dhya['cluster'] == 0]['Net Sales'],\n",
    "            X[dhya['cluster'] == 0]['Commision (in value)'],\n",
    "            c='red', label='Cluster 1')\n",
    "plt.scatter(X[dhya['cluster'] == 1]['Net Sales'],\n",
    "            X[dhya['cluster'] == 1]['Commision (in value)'],\n",
    "            c='blue', label='Cluster 2')\n",
    "\n",
    "# Plot centroids\n",
    "plt.scatter(centroids[:, 0], centroids[:, 1], marker='X',\n",
    "            s=200, c='black', label='Centroids')\n",
    "\n",
    "plt.xlabel('Net Sales')\n",
    "plt.ylabel('Commision (in value)')\n",
    "plt.title('Hasil Clustering K-Means')\n",
    "plt.legend()\n",
    "plt.show()"
   ]
  }
 ],
 "metadata": {
  "kernelspec": {
   "display_name": "Python 3",
   "language": "python",
   "name": "python3"
  },
  "language_info": {
   "codemirror_mode": {
    "name": "ipython",
    "version": 3
   },
   "file_extension": ".py",
   "mimetype": "text/x-python",
   "name": "python",
   "nbconvert_exporter": "python",
   "pygments_lexer": "ipython3",
   "version": "3.10.7"
  }
 },
 "nbformat": 4,
 "nbformat_minor": 2
}
