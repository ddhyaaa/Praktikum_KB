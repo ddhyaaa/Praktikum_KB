{
 "cells": [
  {
   "cell_type": "markdown",
   "metadata": {},
   "source": [
    "### NAMA    : Raudhya Azzahra' ###\n",
    "### NIM     : 2209106034 ###\n",
    "### KELAS   : IF A2 2022 ###\n",
    "#### POSTTEST 6 KB ####\n",
    "==========================================================\n"
   ]
  },
  {
   "cell_type": "markdown",
   "metadata": {},
   "source": [
    "IMPORT LIBRARY"
   ]
  },
  {
   "cell_type": "code",
   "execution_count": 68,
   "metadata": {},
   "outputs": [],
   "source": [
    "import pandas as pd\n",
    "import matplotlib.pyplot as plt\n",
    "import seaborn as sns\n",
    "import numpy as np\n",
    "import tensorflow as tf\n",
    "from sklearn.preprocessing import MinMaxScaler\n",
    "from sklearn.preprocessing import LabelEncoder\n",
    "from sklearn.model_selection import train_test_split\n",
    "from keras.callbacks import EarlyStopping\n",
    "from sklearn.metrics import classification_report\n",
    "from sklearn.metrics import r2_score, accuracy_score\n"
   ]
  },
  {
   "cell_type": "markdown",
   "metadata": {},
   "source": [
    "IMPORT DATA CSV"
   ]
  },
  {
   "cell_type": "code",
   "execution_count": 47,
   "metadata": {},
   "outputs": [
    {
     "data": {
      "text/html": [
       "<div>\n",
       "<style scoped>\n",
       "    .dataframe tbody tr th:only-of-type {\n",
       "        vertical-align: middle;\n",
       "    }\n",
       "\n",
       "    .dataframe tbody tr th {\n",
       "        vertical-align: top;\n",
       "    }\n",
       "\n",
       "    .dataframe thead th {\n",
       "        text-align: right;\n",
       "    }\n",
       "</style>\n",
       "<table border=\"1\" class=\"dataframe\">\n",
       "  <thead>\n",
       "    <tr style=\"text-align: right;\">\n",
       "      <th></th>\n",
       "      <th>Agency</th>\n",
       "      <th>Agency Type</th>\n",
       "      <th>Distribution Channel</th>\n",
       "      <th>Product Name</th>\n",
       "      <th>Claim</th>\n",
       "      <th>Duration</th>\n",
       "      <th>Destination</th>\n",
       "      <th>Net Sales</th>\n",
       "      <th>Commision (in value)</th>\n",
       "      <th>Gender</th>\n",
       "      <th>Age</th>\n",
       "    </tr>\n",
       "  </thead>\n",
       "  <tbody>\n",
       "    <tr>\n",
       "      <th>0</th>\n",
       "      <td>CBH</td>\n",
       "      <td>Travel Agency</td>\n",
       "      <td>Offline</td>\n",
       "      <td>Comprehensive Plan</td>\n",
       "      <td>No</td>\n",
       "      <td>186</td>\n",
       "      <td>MALAYSIA</td>\n",
       "      <td>-29.0</td>\n",
       "      <td>9.57</td>\n",
       "      <td>F</td>\n",
       "      <td>81</td>\n",
       "    </tr>\n",
       "    <tr>\n",
       "      <th>1</th>\n",
       "      <td>CBH</td>\n",
       "      <td>Travel Agency</td>\n",
       "      <td>Offline</td>\n",
       "      <td>Comprehensive Plan</td>\n",
       "      <td>No</td>\n",
       "      <td>186</td>\n",
       "      <td>MALAYSIA</td>\n",
       "      <td>-29.0</td>\n",
       "      <td>9.57</td>\n",
       "      <td>F</td>\n",
       "      <td>71</td>\n",
       "    </tr>\n",
       "    <tr>\n",
       "      <th>2</th>\n",
       "      <td>CWT</td>\n",
       "      <td>Travel Agency</td>\n",
       "      <td>Online</td>\n",
       "      <td>Rental Vehicle Excess Insurance</td>\n",
       "      <td>No</td>\n",
       "      <td>65</td>\n",
       "      <td>AUSTRALIA</td>\n",
       "      <td>-49.5</td>\n",
       "      <td>29.70</td>\n",
       "      <td>NaN</td>\n",
       "      <td>32</td>\n",
       "    </tr>\n",
       "    <tr>\n",
       "      <th>3</th>\n",
       "      <td>CWT</td>\n",
       "      <td>Travel Agency</td>\n",
       "      <td>Online</td>\n",
       "      <td>Rental Vehicle Excess Insurance</td>\n",
       "      <td>No</td>\n",
       "      <td>60</td>\n",
       "      <td>AUSTRALIA</td>\n",
       "      <td>-39.6</td>\n",
       "      <td>23.76</td>\n",
       "      <td>NaN</td>\n",
       "      <td>32</td>\n",
       "    </tr>\n",
       "    <tr>\n",
       "      <th>4</th>\n",
       "      <td>CWT</td>\n",
       "      <td>Travel Agency</td>\n",
       "      <td>Online</td>\n",
       "      <td>Rental Vehicle Excess Insurance</td>\n",
       "      <td>No</td>\n",
       "      <td>79</td>\n",
       "      <td>ITALY</td>\n",
       "      <td>-19.8</td>\n",
       "      <td>11.88</td>\n",
       "      <td>NaN</td>\n",
       "      <td>41</td>\n",
       "    </tr>\n",
       "  </tbody>\n",
       "</table>\n",
       "</div>"
      ],
      "text/plain": [
       "  Agency    Agency Type Distribution Channel                     Product Name  \\\n",
       "0    CBH  Travel Agency              Offline               Comprehensive Plan   \n",
       "1    CBH  Travel Agency              Offline               Comprehensive Plan   \n",
       "2    CWT  Travel Agency               Online  Rental Vehicle Excess Insurance   \n",
       "3    CWT  Travel Agency               Online  Rental Vehicle Excess Insurance   \n",
       "4    CWT  Travel Agency               Online  Rental Vehicle Excess Insurance   \n",
       "\n",
       "  Claim  Duration Destination  Net Sales  Commision (in value) Gender  Age  \n",
       "0    No       186    MALAYSIA      -29.0                  9.57      F   81  \n",
       "1    No       186    MALAYSIA      -29.0                  9.57      F   71  \n",
       "2    No        65   AUSTRALIA      -49.5                 29.70    NaN   32  \n",
       "3    No        60   AUSTRALIA      -39.6                 23.76    NaN   32  \n",
       "4    No        79       ITALY      -19.8                 11.88    NaN   41  "
      ]
     },
     "execution_count": 47,
     "metadata": {},
     "output_type": "execute_result"
    }
   ],
   "source": [
    "dhya = pd.read_csv('travel_insurance.csv')\n",
    "dhya.head()"
   ]
  },
  {
   "cell_type": "code",
   "execution_count": 48,
   "metadata": {},
   "outputs": [
    {
     "name": "stdout",
     "output_type": "stream",
     "text": [
      "<class 'pandas.core.frame.DataFrame'>\n",
      "RangeIndex: 63326 entries, 0 to 63325\n",
      "Data columns (total 11 columns):\n",
      " #   Column                Non-Null Count  Dtype  \n",
      "---  ------                --------------  -----  \n",
      " 0   Agency                63326 non-null  object \n",
      " 1   Agency Type           63326 non-null  object \n",
      " 2   Distribution Channel  63326 non-null  object \n",
      " 3   Product Name          63326 non-null  object \n",
      " 4   Claim                 63326 non-null  object \n",
      " 5   Duration              63326 non-null  int64  \n",
      " 6   Destination           63326 non-null  object \n",
      " 7   Net Sales             63326 non-null  float64\n",
      " 8   Commision (in value)  63326 non-null  float64\n",
      " 9   Gender                18219 non-null  object \n",
      " 10  Age                   63326 non-null  int64  \n",
      "dtypes: float64(2), int64(2), object(7)\n",
      "memory usage: 5.3+ MB\n"
     ]
    }
   ],
   "source": [
    "dhya.info()"
   ]
  },
  {
   "cell_type": "markdown",
   "metadata": {},
   "source": [
    "#### DATA PREPROCESSING ####"
   ]
  },
  {
   "cell_type": "markdown",
   "metadata": {},
   "source": [
    "Mengecek apakah terdapat nilai null"
   ]
  },
  {
   "cell_type": "code",
   "execution_count": 49,
   "metadata": {},
   "outputs": [
    {
     "data": {
      "text/plain": [
       "Agency                      0\n",
       "Agency Type                 0\n",
       "Distribution Channel        0\n",
       "Product Name                0\n",
       "Claim                       0\n",
       "Duration                    0\n",
       "Destination                 0\n",
       "Net Sales                   0\n",
       "Commision (in value)        0\n",
       "Gender                  45107\n",
       "Age                         0\n",
       "dtype: int64"
      ]
     },
     "execution_count": 49,
     "metadata": {},
     "output_type": "execute_result"
    }
   ],
   "source": [
    "dhya.isna().sum()"
   ]
  },
  {
   "cell_type": "markdown",
   "metadata": {},
   "source": [
    "Menghilangkan nilai null"
   ]
  },
  {
   "cell_type": "code",
   "execution_count": 50,
   "metadata": {},
   "outputs": [
    {
     "data": {
      "text/plain": [
       "Agency                  0\n",
       "Agency Type             0\n",
       "Distribution Channel    0\n",
       "Product Name            0\n",
       "Claim                   0\n",
       "Duration                0\n",
       "Destination             0\n",
       "Net Sales               0\n",
       "Commision (in value)    0\n",
       "Gender                  0\n",
       "Age                     0\n",
       "dtype: int64"
      ]
     },
     "execution_count": 50,
     "metadata": {},
     "output_type": "execute_result"
    }
   ],
   "source": [
    "modus = dhya['Gender'].mode()[0]\n",
    "dhya['Gender'].fillna(modus, inplace=True)\n",
    "dhya.isna().sum()"
   ]
  },
  {
   "cell_type": "markdown",
   "metadata": {},
   "source": [
    "Mengecek nilai duplikat"
   ]
  },
  {
   "cell_type": "code",
   "execution_count": 51,
   "metadata": {},
   "outputs": [
    {
     "data": {
      "text/plain": [
       "0        False\n",
       "1        False\n",
       "2        False\n",
       "3        False\n",
       "4        False\n",
       "         ...  \n",
       "63321    False\n",
       "63322    False\n",
       "63323    False\n",
       "63324     True\n",
       "63325    False\n",
       "Length: 63326, dtype: bool"
      ]
     },
     "execution_count": 51,
     "metadata": {},
     "output_type": "execute_result"
    }
   ],
   "source": [
    "dhya.duplicated()"
   ]
  },
  {
   "cell_type": "markdown",
   "metadata": {},
   "source": [
    "Menghilangkan nilai duplikat"
   ]
  },
  {
   "cell_type": "code",
   "execution_count": 52,
   "metadata": {},
   "outputs": [
    {
     "data": {
      "text/plain": [
       "0        False\n",
       "1        False\n",
       "2        False\n",
       "3        False\n",
       "4        False\n",
       "         ...  \n",
       "63320    False\n",
       "63321    False\n",
       "63322    False\n",
       "63323    False\n",
       "63325    False\n",
       "Length: 55253, dtype: bool"
      ]
     },
     "execution_count": 52,
     "metadata": {},
     "output_type": "execute_result"
    }
   ],
   "source": [
    "dhya.drop_duplicates(inplace=True)\n",
    "dhya.duplicated()"
   ]
  },
  {
   "cell_type": "markdown",
   "metadata": {},
   "source": [
    "Normalisasi data"
   ]
  },
  {
   "cell_type": "code",
   "execution_count": 53,
   "metadata": {},
   "outputs": [],
   "source": [
    "min_max_scaler = MinMaxScaler()\n",
    "dhya[['Duration', 'Age']] = min_max_scaler.fit_transform(dhya[['Duration', 'Age']])"
   ]
  },
  {
   "cell_type": "markdown",
   "metadata": {},
   "source": [
    "Mengubah data kategorikal menjadi numerikal"
   ]
  },
  {
   "cell_type": "code",
   "execution_count": 54,
   "metadata": {},
   "outputs": [],
   "source": [
    "label_encoder = LabelEncoder()"
   ]
  },
  {
   "cell_type": "code",
   "execution_count": 55,
   "metadata": {},
   "outputs": [],
   "source": [
    "for column in dhya.columns:\n",
    "    if dhya[column].dtype == 'object':\n",
    "        dhya[column] = label_encoder.fit_transform(dhya[column])"
   ]
  },
  {
   "cell_type": "code",
   "execution_count": 56,
   "metadata": {},
   "outputs": [
    {
     "data": {
      "text/html": [
       "<div>\n",
       "<style scoped>\n",
       "    .dataframe tbody tr th:only-of-type {\n",
       "        vertical-align: middle;\n",
       "    }\n",
       "\n",
       "    .dataframe tbody tr th {\n",
       "        vertical-align: top;\n",
       "    }\n",
       "\n",
       "    .dataframe thead th {\n",
       "        text-align: right;\n",
       "    }\n",
       "</style>\n",
       "<table border=\"1\" class=\"dataframe\">\n",
       "  <thead>\n",
       "    <tr style=\"text-align: right;\">\n",
       "      <th></th>\n",
       "      <th>Agency</th>\n",
       "      <th>Agency Type</th>\n",
       "      <th>Distribution Channel</th>\n",
       "      <th>Product Name</th>\n",
       "      <th>Claim</th>\n",
       "      <th>Duration</th>\n",
       "      <th>Destination</th>\n",
       "      <th>Net Sales</th>\n",
       "      <th>Commision (in value)</th>\n",
       "      <th>Gender</th>\n",
       "      <th>Age</th>\n",
       "    </tr>\n",
       "  </thead>\n",
       "  <tbody>\n",
       "    <tr>\n",
       "      <th>0</th>\n",
       "      <td>3</td>\n",
       "      <td>1</td>\n",
       "      <td>0</td>\n",
       "      <td>12</td>\n",
       "      <td>0</td>\n",
       "      <td>0.038501</td>\n",
       "      <td>79</td>\n",
       "      <td>-29.0</td>\n",
       "      <td>9.57</td>\n",
       "      <td>0</td>\n",
       "      <td>0.686441</td>\n",
       "    </tr>\n",
       "    <tr>\n",
       "      <th>1</th>\n",
       "      <td>3</td>\n",
       "      <td>1</td>\n",
       "      <td>0</td>\n",
       "      <td>12</td>\n",
       "      <td>0</td>\n",
       "      <td>0.038501</td>\n",
       "      <td>79</td>\n",
       "      <td>-29.0</td>\n",
       "      <td>9.57</td>\n",
       "      <td>0</td>\n",
       "      <td>0.601695</td>\n",
       "    </tr>\n",
       "    <tr>\n",
       "      <th>2</th>\n",
       "      <td>6</td>\n",
       "      <td>1</td>\n",
       "      <td>1</td>\n",
       "      <td>16</td>\n",
       "      <td>0</td>\n",
       "      <td>0.013721</td>\n",
       "      <td>4</td>\n",
       "      <td>-49.5</td>\n",
       "      <td>29.70</td>\n",
       "      <td>1</td>\n",
       "      <td>0.271186</td>\n",
       "    </tr>\n",
       "    <tr>\n",
       "      <th>3</th>\n",
       "      <td>6</td>\n",
       "      <td>1</td>\n",
       "      <td>1</td>\n",
       "      <td>16</td>\n",
       "      <td>0</td>\n",
       "      <td>0.012697</td>\n",
       "      <td>4</td>\n",
       "      <td>-39.6</td>\n",
       "      <td>23.76</td>\n",
       "      <td>1</td>\n",
       "      <td>0.271186</td>\n",
       "    </tr>\n",
       "    <tr>\n",
       "      <th>4</th>\n",
       "      <td>6</td>\n",
       "      <td>1</td>\n",
       "      <td>1</td>\n",
       "      <td>16</td>\n",
       "      <td>0</td>\n",
       "      <td>0.016588</td>\n",
       "      <td>61</td>\n",
       "      <td>-19.8</td>\n",
       "      <td>11.88</td>\n",
       "      <td>1</td>\n",
       "      <td>0.347458</td>\n",
       "    </tr>\n",
       "  </tbody>\n",
       "</table>\n",
       "</div>"
      ],
      "text/plain": [
       "   Agency  Agency Type  Distribution Channel  Product Name  Claim  Duration  \\\n",
       "0       3            1                     0            12      0  0.038501   \n",
       "1       3            1                     0            12      0  0.038501   \n",
       "2       6            1                     1            16      0  0.013721   \n",
       "3       6            1                     1            16      0  0.012697   \n",
       "4       6            1                     1            16      0  0.016588   \n",
       "\n",
       "   Destination  Net Sales  Commision (in value)  Gender       Age  \n",
       "0           79      -29.0                  9.57       0  0.686441  \n",
       "1           79      -29.0                  9.57       0  0.601695  \n",
       "2            4      -49.5                 29.70       1  0.271186  \n",
       "3            4      -39.6                 23.76       1  0.271186  \n",
       "4           61      -19.8                 11.88       1  0.347458  "
      ]
     },
     "execution_count": 56,
     "metadata": {},
     "output_type": "execute_result"
    }
   ],
   "source": [
    "dhya.head()"
   ]
  },
  {
   "cell_type": "markdown",
   "metadata": {},
   "source": [
    "#### DATA TEST SPLIT ####"
   ]
  },
  {
   "cell_type": "code",
   "execution_count": 57,
   "metadata": {},
   "outputs": [],
   "source": [
    "x = dhya.drop('Distribution Channel', axis=1) #feature\n",
    "y = dhya['Distribution Channel'] #target"
   ]
  },
  {
   "cell_type": "code",
   "execution_count": 58,
   "metadata": {},
   "outputs": [],
   "source": [
    "x_train, x_test, y_train, y_test = train_test_split(x,y, test_size=0.3)"
   ]
  },
  {
   "cell_type": "code",
   "execution_count": 59,
   "metadata": {},
   "outputs": [
    {
     "name": "stdout",
     "output_type": "stream",
     "text": [
      "panjang x train: 38677\n",
      "\n",
      "panjang x test: 16576\n",
      "\n",
      "panjang y train: 38677\n",
      "\n",
      "panjang y test: 16576\n",
      "\n"
     ]
    }
   ],
   "source": [
    "print(f'panjang x train: {len(x_train)}\\n')\n",
    "print(f'panjang x test: {len(x_test)}\\n')\n",
    "print(f'panjang y train: {len(y_train)}\\n')\n",
    "print(f'panjang y test: {len(y_test)}\\n')"
   ]
  },
  {
   "cell_type": "markdown",
   "metadata": {},
   "source": [
    "#### SEQUANTIAL MODEL ####"
   ]
  },
  {
   "cell_type": "code",
   "execution_count": 60,
   "metadata": {},
   "outputs": [],
   "source": [
    "model = tf.keras.models.Sequential([\n",
    "    tf.keras.layers.Dense(16, activation='relu', input_shape=(x_train.shape[1],)),\n",
    "    tf.keras.layers.Dense(32, activation='relu'),\n",
    "    tf.keras.layers.Dense(1, activation='sigmoid')\n",
    "])"
   ]
  },
  {
   "cell_type": "markdown",
   "metadata": {},
   "source": [
    "FUNGSI CALL BACK"
   ]
  },
  {
   "cell_type": "code",
   "execution_count": 61,
   "metadata": {},
   "outputs": [],
   "source": [
    "monitor_callbacks = EarlyStopping(\n",
    "    monitor='val_accuracy', \n",
    "    patience=5) #utk menghentikan 5 epoch/iterasi berikutnya"
   ]
  },
  {
   "cell_type": "markdown",
   "metadata": {},
   "source": [
    "MODEL COMPILE"
   ]
  },
  {
   "cell_type": "code",
   "execution_count": 62,
   "metadata": {},
   "outputs": [],
   "source": [
    "model.compile (\n",
    "    optimizer= 'Adam',\n",
    "    loss = 'binary_crossentropy',\n",
    "    metrics = ['accuracy']\n",
    ")"
   ]
  },
  {
   "cell_type": "code",
   "execution_count": 63,
   "metadata": {},
   "outputs": [
    {
     "name": "stdout",
     "output_type": "stream",
     "text": [
      "Model: \"sequential_2\"\n",
      "_________________________________________________________________\n",
      " Layer (type)                Output Shape              Param #   \n",
      "=================================================================\n",
      " dense_6 (Dense)             (None, 16)                176       \n",
      "                                                                 \n",
      " dense_7 (Dense)             (None, 32)                544       \n",
      "                                                                 \n",
      " dense_8 (Dense)             (None, 1)                 33        \n",
      "                                                                 \n",
      "=================================================================\n",
      "Total params: 753 (2.94 KB)\n",
      "Trainable params: 753 (2.94 KB)\n",
      "Non-trainable params: 0 (0.00 Byte)\n",
      "_________________________________________________________________\n"
     ]
    }
   ],
   "source": [
    "model.summary()"
   ]
  },
  {
   "cell_type": "markdown",
   "metadata": {},
   "source": [
    "FITTING MODEL"
   ]
  },
  {
   "cell_type": "code",
   "execution_count": 64,
   "metadata": {},
   "outputs": [
    {
     "name": "stdout",
     "output_type": "stream",
     "text": [
      "Epoch 1/100\n"
     ]
    },
    {
     "name": "stdout",
     "output_type": "stream",
     "text": [
      "1209/1209 [==============================] - 7s 4ms/step - loss: 0.2466 - accuracy: 0.9649 - val_loss: 0.0879 - val_accuracy: 0.9800\n",
      "Epoch 2/100\n",
      "1209/1209 [==============================] - 5s 4ms/step - loss: 0.0696 - accuracy: 0.9847 - val_loss: 0.0622 - val_accuracy: 0.9876\n",
      "Epoch 3/100\n",
      "1209/1209 [==============================] - 6s 5ms/step - loss: 0.0581 - accuracy: 0.9882 - val_loss: 0.0573 - val_accuracy: 0.9896\n",
      "Epoch 4/100\n",
      "1209/1209 [==============================] - 8s 7ms/step - loss: 0.0527 - accuracy: 0.9885 - val_loss: 0.0547 - val_accuracy: 0.9882\n",
      "Epoch 5/100\n",
      "1209/1209 [==============================] - 8s 6ms/step - loss: 0.0476 - accuracy: 0.9889 - val_loss: 0.0444 - val_accuracy: 0.9900\n",
      "Epoch 6/100\n",
      "1209/1209 [==============================] - 8s 6ms/step - loss: 0.0398 - accuracy: 0.9893 - val_loss: 0.0429 - val_accuracy: 0.9899\n",
      "Epoch 7/100\n",
      "1209/1209 [==============================] - 8s 6ms/step - loss: 0.0337 - accuracy: 0.9906 - val_loss: 0.0382 - val_accuracy: 0.9908\n",
      "Epoch 8/100\n",
      "1209/1209 [==============================] - 7s 6ms/step - loss: 0.0285 - accuracy: 0.9931 - val_loss: 0.0279 - val_accuracy: 0.9949\n",
      "Epoch 9/100\n",
      "1209/1209 [==============================] - 7s 6ms/step - loss: 0.0248 - accuracy: 0.9951 - val_loss: 0.0305 - val_accuracy: 0.9958\n",
      "Epoch 10/100\n",
      "1209/1209 [==============================] - 8s 6ms/step - loss: 0.0222 - accuracy: 0.9959 - val_loss: 0.0325 - val_accuracy: 0.9965\n",
      "Epoch 11/100\n",
      "1209/1209 [==============================] - 8s 6ms/step - loss: 0.0209 - accuracy: 0.9964 - val_loss: 0.0241 - val_accuracy: 0.9963\n",
      "Epoch 12/100\n",
      "1209/1209 [==============================] - 7s 6ms/step - loss: 0.0191 - accuracy: 0.9968 - val_loss: 0.0217 - val_accuracy: 0.9963\n",
      "Epoch 13/100\n",
      "1209/1209 [==============================] - 7s 6ms/step - loss: 0.0181 - accuracy: 0.9968 - val_loss: 0.0200 - val_accuracy: 0.9967\n",
      "Epoch 14/100\n",
      "1209/1209 [==============================] - 8s 6ms/step - loss: 0.0170 - accuracy: 0.9969 - val_loss: 0.0196 - val_accuracy: 0.9971\n",
      "Epoch 15/100\n",
      "1209/1209 [==============================] - 8s 6ms/step - loss: 0.0163 - accuracy: 0.9971 - val_loss: 0.0200 - val_accuracy: 0.9970\n",
      "Epoch 16/100\n",
      "1209/1209 [==============================] - 8s 6ms/step - loss: 0.0150 - accuracy: 0.9972 - val_loss: 0.0203 - val_accuracy: 0.9967\n",
      "Epoch 17/100\n",
      "1209/1209 [==============================] - 7s 6ms/step - loss: 0.0149 - accuracy: 0.9972 - val_loss: 0.0174 - val_accuracy: 0.9971\n",
      "Epoch 18/100\n",
      "1209/1209 [==============================] - 8s 6ms/step - loss: 0.0145 - accuracy: 0.9974 - val_loss: 0.0187 - val_accuracy: 0.9967\n",
      "Epoch 19/100\n",
      "1209/1209 [==============================] - 8s 6ms/step - loss: 0.0137 - accuracy: 0.9975 - val_loss: 0.0205 - val_accuracy: 0.9972\n",
      "Epoch 20/100\n",
      "1209/1209 [==============================] - 8s 6ms/step - loss: 0.0135 - accuracy: 0.9979 - val_loss: 0.0252 - val_accuracy: 0.9956\n",
      "Epoch 21/100\n",
      "1209/1209 [==============================] - 8s 7ms/step - loss: 0.0125 - accuracy: 0.9977 - val_loss: 0.0152 - val_accuracy: 0.9975\n",
      "Epoch 22/100\n",
      "1209/1209 [==============================] - 5s 4ms/step - loss: 0.0126 - accuracy: 0.9978 - val_loss: 0.0226 - val_accuracy: 0.9966\n",
      "Epoch 23/100\n",
      "1209/1209 [==============================] - 7s 6ms/step - loss: 0.0133 - accuracy: 0.9976 - val_loss: 0.0175 - val_accuracy: 0.9975\n",
      "Epoch 24/100\n",
      "1209/1209 [==============================] - 7s 6ms/step - loss: 0.0115 - accuracy: 0.9981 - val_loss: 0.0151 - val_accuracy: 0.9976\n",
      "Epoch 25/100\n",
      "1209/1209 [==============================] - 8s 6ms/step - loss: 0.0109 - accuracy: 0.9981 - val_loss: 0.0162 - val_accuracy: 0.9978\n",
      "Epoch 26/100\n",
      "1209/1209 [==============================] - 8s 7ms/step - loss: 0.0123 - accuracy: 0.9978 - val_loss: 0.0158 - val_accuracy: 0.9971\n",
      "Epoch 27/100\n",
      "1209/1209 [==============================] - 8s 6ms/step - loss: 0.0109 - accuracy: 0.9983 - val_loss: 0.0157 - val_accuracy: 0.9975\n",
      "Epoch 28/100\n",
      "1209/1209 [==============================] - 8s 7ms/step - loss: 0.0094 - accuracy: 0.9983 - val_loss: 0.0258 - val_accuracy: 0.9943\n",
      "Epoch 29/100\n",
      "1209/1209 [==============================] - 8s 6ms/step - loss: 0.0104 - accuracy: 0.9982 - val_loss: 0.0148 - val_accuracy: 0.9977\n",
      "Epoch 30/100\n",
      "1209/1209 [==============================] - 8s 7ms/step - loss: 0.0097 - accuracy: 0.9983 - val_loss: 0.0223 - val_accuracy: 0.9963\n"
     ]
    }
   ],
   "source": [
    "fitting = model.fit(\n",
    "    x = x_train,\n",
    "    y = y_train,\n",
    "    validation_data=(x_test, y_test),\n",
    "    epochs=100,\n",
    "    verbose=1,\n",
    "    callbacks = [monitor_callbacks]\n",
    ")"
   ]
  },
  {
   "cell_type": "markdown",
   "metadata": {},
   "source": [
    "EVALUASI MODEL"
   ]
  },
  {
   "cell_type": "code",
   "execution_count": 65,
   "metadata": {},
   "outputs": [
    {
     "name": "stdout",
     "output_type": "stream",
     "text": [
      "518/518 [==============================] - 2s 4ms/step - loss: 0.0223 - accuracy: 0.9963\n"
     ]
    },
    {
     "data": {
      "text/plain": [
       "[0.02227490395307541, 0.9962596297264099]"
      ]
     },
     "execution_count": 65,
     "metadata": {},
     "output_type": "execute_result"
    }
   ],
   "source": [
    "model.evaluate(x_test, y_test)"
   ]
  },
  {
   "cell_type": "markdown",
   "metadata": {},
   "source": [
    "model ini memiliki kinerja yang sangat baik dalam tugas klasifikasi atau prediksi yang dilakukannya. Tingkat akurasi yang tinggi (sekitar 99.62%) dan kerugian yang rendah (sekitar 0.0223) menunjukkan bahwa model ini berhasil memprediksi dengan akurat sebagian besar data yang diberikan kepadanya"
   ]
  },
  {
   "cell_type": "code",
   "execution_count": 66,
   "metadata": {},
   "outputs": [
    {
     "name": "stdout",
     "output_type": "stream",
     "text": [
      "518/518 [==============================] - 2s 3ms/step\n",
      "              precision    recall  f1-score   support\n",
      "\n",
      "      Online       1.00      0.82      0.90       332\n",
      "     Offline       1.00      1.00      1.00     16244\n",
      "\n",
      "    accuracy                           1.00     16576\n",
      "   macro avg       1.00      0.91      0.95     16576\n",
      "weighted avg       1.00      1.00      1.00     16576\n",
      "\n"
     ]
    }
   ],
   "source": [
    "print(classification_report(y_test, model.predict(x_test).round(), target_names=['Online', 'Offline']))"
   ]
  },
  {
   "cell_type": "markdown",
   "metadata": {},
   "source": [
    "Secara umum, model ini sangat baik dalam mengklasifikasikan kategori \"Offline,\" dengan tingkat presisi dan recall yang sangat tinggi. Meskipun kategori \"Online\" memiliki tingkat recall yang lebih rendah, akurasi keseluruhan tetap sangat tinggi. Model ini berhasil dalam tugas klasifikasi dengan performa yang sangat baik, mencapai akurasi 100%."
   ]
  },
  {
   "cell_type": "markdown",
   "metadata": {},
   "source": [
    "AKURASI"
   ]
  },
  {
   "cell_type": "code",
   "execution_count": 71,
   "metadata": {},
   "outputs": [
    {
     "name": "stdout",
     "output_type": "stream",
     "text": [
      "518/518 [==============================] - 1s 1ms/step\n",
      "Accuracy: 0.9962596525096525\n"
     ]
    }
   ],
   "source": [
    "y_pred = model.predict(x_test)\n",
    "\n",
    "y_pred_binary = (y_pred > 0.5).astype(int) \n",
    "accuracy = accuracy_score(y_test, y_pred_binary)\n",
    "print(\"Accuracy:\", accuracy)"
   ]
  },
  {
   "cell_type": "markdown",
   "metadata": {},
   "source": [
    "Grafik pergerakan metrik (akurasi/error) dan loss terhadap epoch baik pada training maupun validation"
   ]
  },
  {
   "cell_type": "code",
   "execution_count": 67,
   "metadata": {},
   "outputs": [
    {
     "data": {
      "image/png": "[encoded data removed]",
      "text/plain": [
       "<Figure size 1500x500 with 2 Axes>"
      ]
     },
     "metadata": {},
     "output_type": "display_data"
    }
   ],
   "source": [
    "plt.figure(figsize=(15, 5))\n",
    "plt.subplot(1, 2, 1)\n",
    "plt.plot(fitting.history['accuracy'], label='Training Accuracy')\n",
    "plt.plot(fitting.history['val_accuracy'], label='Validation Accuracy')\n",
    "plt.title('Accuracy Plot')\n",
    "plt.xlabel('Epoch')\n",
    "plt.ylabel('Accuracy')\n",
    "plt.legend()\n",
    "\n",
    "plt.subplot(1, 2, 2)\n",
    "plt.plot(fitting.history['loss'], label='Training Loss')\n",
    "plt.plot(fitting.history['val_loss'], label='Validation Loss')\n",
    "plt.title('Loss Plot')\n",
    "plt.xlabel('Epoch')\n",
    "plt.ylabel('Loss')\n",
    "plt.legend()\n",
    "\n",
    "plt.show()"
   ]
  }
 ],
 "metadata": {
  "kernelspec": {
   "display_name": "Python 3",
   "language": "python",
   "name": "python3"
  },
  "language_info": {
   "codemirror_mode": {
    "name": "ipython",
    "version": 3
   },
   "file_extension": ".py",
   "mimetype": "text/x-python",
   "name": "python",
   "nbconvert_exporter": "python",
   "pygments_lexer": "ipython3",
   "version": "3.10.7"
  }
 },
 "nbformat": 4,
 "nbformat_minor": 2
}
